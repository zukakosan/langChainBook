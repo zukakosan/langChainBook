{
 "cells": [
  {
   "cell_type": "code",
   "execution_count": 5,
   "id": "28bd010c",
   "metadata": {},
   "outputs": [],
   "source": [
    "from langchain_core.output_parsers import StrOutputParser\n",
    "from langchain_core.prompts import ChatPromptTemplate\n",
    "from langchain.prompts.chat import (\n",
    "    ChatPromptTemplate,\n",
    "    SystemMessagePromptTemplate,\n",
    "    HumanMessagePromptTemplate,\n",
    ")\n",
    "from langchain_openai import AzureChatOpenAI\n",
    "from langchain_core.messages import HumanMessage, SystemMessage, AIMessage"
   ]
  },
  {
   "cell_type": "code",
   "execution_count": 17,
   "id": "1b53806b",
   "metadata": {},
   "outputs": [],
   "source": [
    "system_prompt = SystemMessagePromptTemplate.from_template(\"ユーザが入力した料理のレシピを考えてください。\")\n",
    "user_prompt = HumanMessagePromptTemplate.from_template(\"{dish}\")\n",
    "prompt_template = ChatPromptTemplate.from_messages([\n",
    "    system_prompt,\n",
    "    user_prompt\n",
    "])"
   ]
  },
  {
   "cell_type": "code",
   "execution_count": 10,
   "id": "ec490fa4",
   "metadata": {},
   "outputs": [],
   "source": [
    "%load_ext dotenv\n",
    "%dotenv"
   ]
  },
  {
   "cell_type": "code",
   "execution_count": 11,
   "id": "94bdfcaa",
   "metadata": {},
   "outputs": [],
   "source": [
    "llm = AzureChatOpenAI(\n",
    "    azure_deployment=\"gpt-4o\",\n",
    "    api_version=\"2024-06-01\",\n",
    "    temperature=0.7\n",
    ")\n"
   ]
  },
  {
   "cell_type": "code",
   "execution_count": 12,
   "id": "2ee02490",
   "metadata": {},
   "outputs": [],
   "source": [
    "output_parser = StrOutputParser()"
   ]
  },
  {
   "cell_type": "code",
   "execution_count": 18,
   "id": "96be4eda",
   "metadata": {},
   "outputs": [],
   "source": [
    "prompt_value = prompt_template.invoke({\"dish\": \"寿司\"})"
   ]
  },
  {
   "cell_type": "code",
   "execution_count": 19,
   "id": "50cabcc4",
   "metadata": {},
   "outputs": [
    {
     "name": "stdout",
     "output_type": "stream",
     "text": [
      "messages=[SystemMessage(content='ユーザが入力した料理のレシピを考えてください。', additional_kwargs={}, response_metadata={}), HumanMessage(content='寿司', additional_kwargs={}, response_metadata={})]\n"
     ]
    }
   ],
   "source": [
    "print(prompt_value)"
   ]
  },
  {
   "cell_type": "code",
   "execution_count": 21,
   "id": "f795cf06",
   "metadata": {},
   "outputs": [],
   "source": [
    "chain = prompt_template | llm | output_parser\n",
    "res = chain.invoke({\"dish\": \"寿司\"})"
   ]
  },
  {
   "cell_type": "code",
   "execution_count": 22,
   "id": "cfaa5571",
   "metadata": {},
   "outputs": [
    {
     "data": {
      "text/plain": [
       "'寿司の基本的なレシピをご紹介します！シンプルな握り寿司と巻き寿司の作り方を含めています。お好みでアレンジしてみてください。\\n\\n---\\n\\n### 【基本の握り寿司レシピ】  \\n#### 材料（2人分）\\n- **米**：2合  \\n- **寿司酢**：大さじ4（※下記「寿司酢の作り方」を参照）  \\n- **刺身用の魚**：まぐろ、サーモン、エビ、タイ、イカなどお好みで  \\n- **わさび**：適量（お好みで）  \\n- **しょうゆ**：適量  \\n\\n#### 寿司酢の作り方（参考）\\n- **酢**：50ml  \\n- **砂糖**：大さじ2  \\n- **塩**：小さじ1  \\n\\nこれらをよく混ぜ、砂糖と塩が溶けるまで混ぜておく。\\n\\n#### 作り方\\n1. 【寿司飯を作る】  \\n   - 米を洗い、水加減を調整して通常通り炊く。  \\n   - 炊きあがったご飯が熱いうちにボウルに移し、寿司酢を全体に回しかける。  \\n   - しゃもじで切るように混ぜ、粗熱を取る。  \\n   - 寿司飯が冷めすぎないよう、乾燥を防ぐために布巾などをかけておく。\\n\\n2. 【ネタを準備する】  \\n   - 刺身用の魚を適当な大きさに切る。（お店で買う場合は「寿司用に切ってください」と頼むとよい）  \\n   - エビは殻をむき、背わたを取り除いて茹でておく。\\n\\n3. 【握る】  \\n   - 手を軽く濡らし、寿司飯を親指サイズに軽く握って形を整える。  \\n   - ご飯の上にわさびを少量のせ、準備したネタを乗せて軽く押さえる。  \\n\\n4. 【仕上げ】  \\n   - しょうゆを添えて完成！お好みでガリやお吸い物を添えても◎。\\n\\n---\\n\\n### 【基本の巻き寿司レシピ（太巻き）】  \\n#### 材料（2本分）\\n- **米**：2合（寿司飯を作る）  \\n- **海苔（全形）**：2枚  \\n- **具材**（お好みで）：  \\n  - きゅうり（細切り）  \\n  - 卵焼き（細切り）  \\n  - カニカマ  \\n  - 魚の刺身（細切り）  \\n  - かんぴょう煮 など  \\n\\n#### 作り方\\n1. 【具材を準備する】  \\n   - きゅうりや卵焼きを細切りにする。  \\n   - かんぴょうは甘辛く煮ておく。  \\n\\n2. 【巻き寿司を作る】  \\n   - 巻きすを広げ、その上に海苔を敷く。  \\n   - 海苔の上に寿司飯を薄く均一に広げる。  \\n   - 海苔の手前1～2cmを空けて、具材を横一列に並べる。  \\n\\n3. 【巻く】  \\n   - 巻きすを使いながら、具材が崩れないようにしっかり巻き込む。  \\n   - 巻き終わりを下にして少し馴染ませる。  \\n\\n4. 【切る】  \\n   - 包丁を水で湿らせ、巻き寿司を食べやすい大きさに切る。  \\n\\n---\\n\\n### アレンジ例\\n- 手巻き寿司にして、家族や友人と楽しみながら作るのもおすすめ！  \\n- 海外風にアボカドやクリームチーズを加えたカリフォルニアロール風の巻き寿司も人気です。\\n\\n---\\n\\nぜひ楽しみながら作ってみてください！🍣'"
      ]
     },
     "execution_count": 22,
     "metadata": {},
     "output_type": "execute_result"
    }
   ],
   "source": [
    "res"
   ]
  },
  {
   "cell_type": "code",
   "execution_count": 23,
   "id": "2e01af4e",
   "metadata": {},
   "outputs": [
    {
     "name": "stdout",
     "output_type": "stream",
     "text": [
      "もちろんです！以下は基本的なカレーのレシピです。必要な材料と手順を紹介します。\n",
      "\n",
      "---\n",
      "\n",
      "### **基本のカレー**\n",
      "\n",
      "#### **材料（4人分）**\n",
      "- 牛肉または鶏肉（お好みで） 300〜400g  \n",
      "- 玉ねぎ 2個  \n",
      "- にんじん 1本  \n",
      "- じゃがいも 2個  \n",
      "- カレールウ（市販のもの） 1箱（約200g）  \n",
      "- 水 800ml  \n",
      "- サラダ油 大さじ2  \n",
      "- お好みでニンニク 1片、しょうが 1片  \n",
      "- ごはん（適量）\n",
      "\n",
      "---\n",
      "\n",
      "#### **作り方**\n",
      "\n",
      "1. **材料の下準備**  \n",
      "   - 玉ねぎは薄切りにする。にんじんは一口大の乱切りに、じゃがいもは皮をむいて一口大に切る。  \n",
      "   - お肉は食べやすいサイズに切る。  \n",
      "\n",
      "2. **炒める**  \n",
      "   - 鍋にサラダ油を熱し、必要であればニンニクとしょうがをみじん切りにして香りが立つまで炒める。  \n",
      "   - 玉ねぎを加え、しんなりするまでよく炒める。  \n",
      "   - お肉を加え、表面が軽く焼けるまで炒める。  \n",
      "\n",
      "3. **野菜を加える**  \n",
      "   - にんじんとじゃがいもを鍋に入れ、全体が混ざるように軽く炒める。  \n",
      "\n",
      "4. **煮る**  \n",
      "   - 水を加え、沸騰させる。アクが出た場合は取り除く。  \n",
      "   - 弱火〜中火にして、野菜が柔らかくなるまで約15〜20分煮る。  \n",
      "\n",
      "5. **ルウを加える**  \n",
      "   - 火を止めてカレールウを入れ、溶けるまでよく混ぜる。  \n",
      "   - 再び弱火にして、時々混ぜながらとろみがつくまで約10分煮込む。  \n",
      "\n",
      "6. **仕上げ**  \n",
      "   - 味を見て必要であれば調整する（塩や隠し味としてソースやはちみつを加えるのもおすすめ）。  \n",
      "\n",
      "7. **盛り付け**  \n",
      "   - ごはんを器に盛り、カレーをかけて完成！\n",
      "\n",
      "---\n",
      "\n",
      "#### **ポイント＆アレンジ**  \n",
      "- 隠し味として、チョコレート、ヨーグルト、しょうゆ、ケチャップなどを少量加えると風味がアップします！  \n",
      "- 野菜やお肉はお好みで変更可能。キノコやナスを入れると秋らしい味わいになります。  \n",
      "\n",
      "ぜひお試しください！"
     ]
    }
   ],
   "source": [
    "for chunk in chain.stream({\"dish\":\"カレー\"}):\n",
    "    print(chunk, end=\"\", flush=True)"
   ]
  },
  {
   "cell_type": "code",
   "execution_count": 24,
   "id": "a5e5bb64",
   "metadata": {},
   "outputs": [],
   "source": [
    "# 複数まとめて処理する場合は、batch\n",
    "batch = [\n",
    "    {\"dish\": \"寿司\"},\n",
    "    {\"dish\": \"カレー\"},\n",
    "    {\"dish\": \"ラーメン\"}\n",
    "]\n",
    "\n",
    "res = chain.invoke(batch)"
   ]
  },
  {
   "cell_type": "code",
   "execution_count": 25,
   "id": "757f0071",
   "metadata": {},
   "outputs": [
    {
     "name": "stdout",
     "output_type": "stream",
     "text": [
      "以下は入力された料理のレシピの例です：\n",
      "\n",
      "---\n",
      "\n",
      "### 寿司のレシピ\n",
      "**材料**:\n",
      "- 酢飯: 炊いたご飯 500g、酢 3 tbsp、砂糖 2 tbsp、塩 1 tsp\n",
      "- 魚: マグロ、サーモン、エビなどお好みで\n",
      "- 海苔: 必要に応じて\n",
      "- わさび: 適量\n",
      "- 醤油: 適量\n",
      "\n",
      "**作り方**:\n",
      "1. 炊いたご飯に酢、砂糖、塩を混ぜて酢飯を作る。冷ましておく。\n",
      "2. 魚を薄くスライスし、形を整える。\n",
      "3. 酢飯を適量手に取り、おにぎりの形に整える。\n",
      "4. 酢飯の上に魚をのせ、軽く押さえて形を整える。\n",
      "5. わさびと醤油を添えて完成。\n",
      "\n",
      "---\n",
      "\n",
      "### カレーのレシピ\n",
      "**材料**:\n",
      "- 玉ねぎ: 1個\n",
      "- にんじん: 1本\n",
      "- じゃがいも: 2個\n",
      "- 肉（豚肉または鶏肉）: 200g\n",
      "- カレールー: 1箱\n",
      "- 水: 500ml\n",
      "- サラダ油: 適量\n",
      "\n",
      "**作り方**:\n",
      "1. 玉ねぎ、にんじん、じゃがいもを一口大に切る。\n",
      "2. 鍋にサラダ油を熱し、肉を炒める。肉に火が通ったら野菜を加えてさらに炒める。\n",
      "3. 鍋に水を加え、沸騰させる。アクを取り除きながら煮る。\n",
      "4. 野菜が柔らかくなったら火を弱め、カレールーを加える。\n",
      "5. ルーが溶けるまでしっかり混ぜ、弱火で煮込む。\n",
      "6. ご飯と一緒に盛り付けて完成。\n",
      "\n",
      "---\n",
      "\n",
      "### ラーメンのレシピ\n",
      "**材料**:\n",
      "- 中華麺: 2玉\n",
      "- 鶏がらスープ: 500ml\n",
      "- 醤油: 2 tbsp\n",
      "- みりん: 1 tbsp\n",
      "- トッピング: チャーシュー、煮卵、ネギ、メンマなど\n",
      "- サラダ油: 適量\n",
      "\n",
      "**作り方**:\n",
      "1. 鶏がらスープを鍋に入れ、醤油とみりんを加えて味を整える。\n",
      "2. 中華麺を茹で、湯切りをする。\n",
      "3. 丼にスープを注ぎ、中華麺を入れる。\n",
      "4. チャーシュー、煮卵、ネギ、メンマなどのトッピングを盛り付ける。\n",
      "5. 好みで胡椒やラー油を加えて完成。\n",
      "\n",
      "---\n",
      "\n",
      "どのレシピも簡単に作れるので、ぜひお試しください！\n"
     ]
    }
   ],
   "source": [
    "print(res)"
   ]
  },
  {
   "cell_type": "code",
   "execution_count": null,
   "id": "9aeab031",
   "metadata": {},
   "outputs": [],
   "source": []
  }
 ],
 "metadata": {
  "kernelspec": {
   "display_name": "langgraph_env",
   "language": "python",
   "name": "python3"
  },
  "language_info": {
   "codemirror_mode": {
    "name": "ipython",
    "version": 3
   },
   "file_extension": ".py",
   "mimetype": "text/x-python",
   "name": "python",
   "nbconvert_exporter": "python",
   "pygments_lexer": "ipython3",
   "version": "3.11.11"
  }
 },
 "nbformat": 4,
 "nbformat_minor": 5
}
