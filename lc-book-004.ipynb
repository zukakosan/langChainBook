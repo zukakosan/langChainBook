{
 "cells": [
  {
   "cell_type": "code",
   "execution_count": 1,
   "id": "28bd010c",
   "metadata": {},
   "outputs": [],
   "source": [
    "from langchain_core.output_parsers import StrOutputParser\n",
    "from langchain_core.prompts import ChatPromptTemplate\n",
    "from langchain.prompts.chat import (\n",
    "    ChatPromptTemplate,\n",
    "    SystemMessagePromptTemplate,\n",
    "    HumanMessagePromptTemplate,\n",
    ")\n",
    "from langchain_openai import AzureChatOpenAI\n",
    "from langchain_core.messages import HumanMessage, SystemMessage, AIMessage"
   ]
  },
  {
   "cell_type": "code",
   "execution_count": 2,
   "id": "ec490fa4",
   "metadata": {},
   "outputs": [],
   "source": [
    "%load_ext dotenv\n",
    "%dotenv"
   ]
  },
  {
   "cell_type": "code",
   "execution_count": 3,
   "id": "94bdfcaa",
   "metadata": {},
   "outputs": [],
   "source": [
    "llm = AzureChatOpenAI(\n",
    "    azure_deployment=\"gpt-4o\",\n",
    "    api_version=\"2024-06-01\",\n",
    "    temperature=0.7\n",
    ")\n"
   ]
  },
  {
   "cell_type": "code",
   "execution_count": 11,
   "id": "efe573c9",
   "metadata": {},
   "outputs": [],
   "source": [
    "system_prompt_optimistic = SystemMessagePromptTemplate.from_template(\"ユーザの入力に対して楽観的な意見をください\")\n",
    "system_prompt_pessimistic = SystemMessagePromptTemplate.from_template(\"ユーザの入力に対して悲観的な意見をください\")\n",
    "user_prompt = HumanMessagePromptTemplate.from_template(\"{query}\")\n",
    "template_optimistic = ChatPromptTemplate.from_messages([\n",
    "    system_prompt_optimistic,\n",
    "    user_prompt\n",
    "])\n",
    "template_pessimistic = ChatPromptTemplate.from_messages([\n",
    "    system_prompt_pessimistic,\n",
    "    user_prompt\n",
    "])"
   ]
  },
  {
   "cell_type": "code",
   "execution_count": 12,
   "id": "bb1c1cf7",
   "metadata": {},
   "outputs": [],
   "source": [
    "output_parser = StrOutputParser()"
   ]
  },
  {
   "cell_type": "code",
   "execution_count": 17,
   "id": "64690c90",
   "metadata": {},
   "outputs": [],
   "source": [
    "import pprint\n",
    "from langchain_core.runnables import RunnableParallel\n",
    "from operator import itemgetter\n",
    "chain_optimistic = template_optimistic | llm | output_parser\n",
    "chain_pessimistic = template_pessimistic | llm | output_parser\n",
    "parallel = RunnableParallel(\n",
    "    {\n",
    "        \"chain_optimistic\": chain_optimistic,\n",
    "        \"chain_pessimistic\": chain_pessimistic,\n",
    "        \"aspect\": itemgetter(\"aspect\")\n",
    "    }\n",
    ")\n",
    "\n",
    "# output = parallel.invoke({\"query\": \"宝くじで１００万円当選した\"})\n",
    "# print(output)"
   ]
  },
  {
   "cell_type": "code",
   "execution_count": null,
   "id": "dd9391f4",
   "metadata": {},
   "outputs": [],
   "source": [
    "summary_prompt = ChatPromptTemplate.from_messages([\n",
    "    (\"system\", \"２つの意見を{aspect}の観点からまとめてください\"),\n",
    "    (\"user\", \"楽観的: {chain_optimistic}\\n悲観的: {chain_pessimistic}\")\n",
    "])"
   ]
  },
  {
   "cell_type": "code",
   "execution_count": 18,
   "id": "fe5ef94f",
   "metadata": {},
   "outputs": [
    {
     "name": "stdout",
     "output_type": "stream",
     "text": [
      "宝くじで100万円当選したというニュースには、楽観的と悲観的な視点があります。楽観的な意見では、100万円の当選は大きな喜びであり、日頃の努力や運の結果として人生を少し豊かにする素晴らしいチャンスと捉えられています。この金額を使って旅行や買い物、貯金などを楽しむことができ、自分へのご褒美として贅沢を味わうことも推奨されています。そして、この幸運がさらなる良い出来事の始まりになることを期待しています。\n",
      "\n",
      "一方で、悲観的な意見では、100万円が実際にはそれほど大きな額ではない可能性を指摘しています。税金や生活費、将来の備えを考えると、その金額は限定的であり、計画的に使わないと簡単に消えてしまうリスクがあると警告しています。また、宝くじの当選をきっかけに、無駄遣いや宝くじへの依存が生じる可能性があり、長期的な経済的安定に寄与しないという懸念も示されています。\n",
      "\n",
      "まとめると、100万円の当選は喜ばしいニュースであり、計画的に使えば人生を少し豊かにするチャンスとなりますが、注意を怠るとその価値を失い、経済的安定に悪影響を及ぼす可能性もあるため、慎重な判断が重要です。\n"
     ]
    }
   ],
   "source": [
    "chain = parallel | summary_prompt | llm | output_parser\n",
    "output = chain.invoke({\"query\": \"宝くじで１００万円当選した\", \"aspect\": \"経済的\"})\n",
    "print(output)"
   ]
  },
  {
   "cell_type": "code",
   "execution_count": null,
   "id": "be0ccd00",
   "metadata": {},
   "outputs": [],
   "source": []
  }
 ],
 "metadata": {
  "kernelspec": {
   "display_name": "langgraph_env",
   "language": "python",
   "name": "python3"
  },
  "language_info": {
   "codemirror_mode": {
    "name": "ipython",
    "version": 3
   },
   "file_extension": ".py",
   "mimetype": "text/x-python",
   "name": "python",
   "nbconvert_exporter": "python",
   "pygments_lexer": "ipython3",
   "version": "3.11.11"
  }
 },
 "nbformat": 4,
 "nbformat_minor": 5
}
