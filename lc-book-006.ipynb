{
 "cells": [
  {
   "cell_type": "code",
   "execution_count": 1,
   "id": "7f3831ff",
   "metadata": {},
   "outputs": [],
   "source": [
    "%load_ext dotenv\n",
    "%dotenv"
   ]
  },
  {
   "cell_type": "code",
   "execution_count": 6,
   "id": "b0932ece",
   "metadata": {},
   "outputs": [
    {
     "name": "stdout",
     "output_type": "stream",
     "text": [
      "439\n"
     ]
    }
   ],
   "source": [
    "from langchain_community.document_loaders import GitLoader\n",
    "\n",
    "def file_filter(file_path: str) -> bool:\n",
    "    return file_path.endswith(\".mdx\")\n",
    "\n",
    "loader = GitLoader(\n",
    "    clone_url=\"https://github.com/langchain-ai/langchain\",\n",
    "    branch=\"master\",\n",
    "    repo_path=\"./langchain\",\n",
    "    file_filter=file_filter\n",
    ")\n",
    "\n",
    "documents = loader.load()\n",
    "print(len(documents))"
   ]
  },
  {
   "cell_type": "code",
   "execution_count": 13,
   "id": "865db9d7",
   "metadata": {},
   "outputs": [],
   "source": [
    "from langchain_chroma import Chroma\n",
    "from langchain_openai import AzureOpenAIEmbeddings\n",
    "\n",
    "emb = AzureOpenAIEmbeddings(\n",
    "    model = \"text-embedding-ada-002\"\n",
    ")\n",
    "# AOAI の RateLimit で 429 を避けるため、ドキュメントの数を絞る\n",
    "db = Chroma.from_documents(documents[:5], emb)"
   ]
  },
  {
   "cell_type": "code",
   "execution_count": 14,
   "id": "c8ddcf3c",
   "metadata": {},
   "outputs": [],
   "source": [
    "from langchain_core.output_parsers import StrOutputParser\n",
    "from langchain_core.prompts import ChatPromptTemplate\n",
    "from langchain_core.runnables import RunnablePassthrough\n",
    "from langchain_openai import AzureChatOpenAI\n",
    "\n",
    "prompt = ChatPromptTemplate.from_template(\n",
    "    '''\n",
    "    以下の文脈だけを参考にして、質問に答えてください。\n",
    "    文脈: {context}\n",
    "    質問: {question}\n",
    "    '''\n",
    ")"
   ]
  },
  {
   "cell_type": "code",
   "execution_count": 24,
   "id": "3e18c91a",
   "metadata": {},
   "outputs": [],
   "source": [
    "import os\n",
    "from azure.identity import ClientSecretCredential, get_bearer_token_provider\n",
    "\n",
    "token_provider = get_bearer_token_provider(\n",
    "    ClientSecretCredential(\n",
    "        client_id=os.getenv(\"client_id\"),\n",
    "        client_secret=os.getenv(\"client_secret\"),\n",
    "        tenant_id=os.getenv(\"tenant_id\")\n",
    "    ),\n",
    "    \"https://cognitiveservices.azure.com/.default\"\n",
    ")\n",
    "llm = AzureChatOpenAI(\n",
    "    azure_deployment=\"gpt-4o\",\n",
    "    api_version=\"2024-02-15-preview\",\n",
    "    azure_ad_token_provider=token_provider,\n",
    "    temperature=0\n",
    ")"
   ]
  },
  {
   "cell_type": "code",
   "execution_count": 25,
   "id": "a4f31d44",
   "metadata": {},
   "outputs": [],
   "source": [
    "retriever = db.as_retriever()"
   ]
  },
  {
   "cell_type": "code",
   "execution_count": null,
   "id": "98b10b50",
   "metadata": {},
   "outputs": [],
   "source": [
    "chain = {\n",
    "    \"context\": retriever,\n",
    "    \"question\": RunnablePassthrough()\n",
    "} | prompt | llm | StrOutputParser()\n",
    "\n",
    "output = chain.invoke(\"LangChainについて教えてください。\")\n",
    "print(output)"
   ]
  },
  {
   "cell_type": "code",
   "execution_count": 33,
   "id": "86e667e8",
   "metadata": {},
   "outputs": [
    {
     "name": "stdout",
     "output_type": "stream",
     "text": [
      "LangChainは、大規模言語モデル（LLMs）を活用したアプリケーションを開発するためのフレームワークです。このフレームワークは、LLMを活用したアプリケーションのライフサイクル全体を簡素化することを目的としています。以下にLangChainの主な特徴と機能を説明します。\n",
      "\n",
      "---\n",
      "\n",
      "### **主な特徴**\n",
      "1. **開発（Development）**:\n",
      "   - LangChainは、オープンソースの[コンポーネント](/docs/concepts)や[サードパーティ統合](/docs/integrations/providers/)を利用してアプリケーションを構築することを支援します。\n",
      "   - [LangGraph](/docs/concepts/architecture/#langgraph)を使用して、ストリーミングや人間の介入をサポートする状態管理エージェントを構築できます。\n",
      "\n",
      "2. **プロダクション化（Productionization）**:\n",
      "   - [LangSmith](https://docs.smith.langchain.com/)を使用して、アプリケーションの検査、監視、評価を行い、継続的な最適化と信頼性のあるデプロイを実現します。\n",
      "\n",
      "3. **デプロイメント（Deployment）**:\n",
      "   - [LangGraph Platform](https://docs.langchain.com/langgraph-platform)を利用して、LangGraphアプリケーションをプロダクション対応のAPIやアシスタントに変換できます。\n",
      "\n",
      "---\n",
      "\n",
      "### **アーキテクチャ**\n",
      "LangChainは複数のオープンソースライブラリで構成されています：\n",
      "- **`langchain-core`**: チャットモデルやその他のコンポーネントの基本的な抽象化を提供。\n",
      "- **統合パッケージ**: 重要な統合（例: `langchain-openai`, `langchain-anthropic`）は軽量パッケージとして分割され、LangChainチームと統合開発者によって共同管理されています。\n",
      "- **`langchain`**: アプリケーションの認知アーキテクチャを構成するチェーン、エージェント、検索戦略を提供。\n",
      "- **`langchain-community`**: コミュニティによって管理されるサードパーティ統合。\n",
      "- **`langgraph`**: LangChainコンポーネントを組み合わせて永続性やストリーミングなどの機能を備えたプロダクション対応アプリケーションを構築するためのオーケストレーションフレームワーク。\n",
      "\n",
      "---\n",
      "\n",
      "### **ガイドとリソース**\n",
      "1. **チュートリアル**:\n",
      "   - [シンプルなLLMアプリケーションの構築](/docs/tutorials/llm_chain)\n",
      "   - [チャットボットの構築](/docs/tutorials/chatbot)\n",
      "   - [エージェントの構築](/docs/tutorials/agents)\n",
      "   - [LangGraphの紹介](https://langchain-ai.github.io/langgraph/tutorials/introduction/)\n",
      "\n",
      "2. **ハウツーガイド**:\n",
      "   - 「どうやって〇〇をするのか？」という質問に短い回答を提供。\n",
      "   - [ハウツーガイドはこちら](/docs/how_to)。\n",
      "\n",
      "3. **概念ガイド**:\n",
      "   - LangChainの主要な概念を高レベルで説明。\n",
      "   - [概念ガイドはこちら](/docs/concepts)。\n",
      "\n",
      "4. **統合**:\n",
      "   - LangChainは、チャットモデルやベクトルストアなど、さまざまなプロバイダーと統合可能。\n",
      "   - [統合の詳細はこちら](/docs/integrations/providers/)。\n",
      "\n",
      "5. **APIリファレンス**:\n",
      "   - LangChain Pythonパッケージのクラスやメソッドの完全なドキュメントを提供。\n",
      "   - [APIリファレンスはこちら](https://python.langchain.com/api_reference/)。\n",
      "\n",
      "---\n",
      "\n",
      "### **エコシステム**\n",
      "- **LangSmith**: アプリケーションのトレースと評価を行い、プロトタイプからプロダクションへの移行を支援。\n",
      "- **LangGraph**: LLMを活用した状態管理型のマルチアクターアプリケーションを構築。\n",
      "\n",
      "---\n",
      "\n",
      "LangChainは、LLMを活用したアプリケーションの開発、最適化、デプロイを効率化するための強力なツールセットを提供します。\n"
     ]
    }
   ],
   "source": [
    "chain = {\n",
    "    \"context\": retriever,\n",
    "    \"question\": RunnablePassthrough()\n",
    "} | RunnablePassthrough.assign( ans = prompt | llm | StrOutputParser())\n",
    "\n",
    "output = chain.invoke(\"LangChainについて教えてください。\")\n",
    "print(output['ans'])"
   ]
  },
  {
   "cell_type": "code",
   "execution_count": null,
   "id": "0ff16a70",
   "metadata": {},
   "outputs": [],
   "source": []
  }
 ],
 "metadata": {
  "kernelspec": {
   "display_name": "langgraph_env",
   "language": "python",
   "name": "python3"
  },
  "language_info": {
   "codemirror_mode": {
    "name": "ipython",
    "version": 3
   },
   "file_extension": ".py",
   "mimetype": "text/x-python",
   "name": "python",
   "nbconvert_exporter": "python",
   "pygments_lexer": "ipython3",
   "version": "3.11.11"
  }
 },
 "nbformat": 4,
 "nbformat_minor": 5
}
