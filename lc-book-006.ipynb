{
 "cells": [
  {
   "cell_type": "code",
   "execution_count": 40,
   "id": "7f3831ff",
   "metadata": {},
   "outputs": [
    {
     "name": "stdout",
     "output_type": "stream",
     "text": [
      "The dotenv extension is already loaded. To reload it, use:\n",
      "  %reload_ext dotenv\n"
     ]
    }
   ],
   "source": [
    "%load_ext dotenv\n",
    "%dotenv"
   ]
  },
  {
   "cell_type": "code",
   "execution_count": 41,
   "id": "b0932ece",
   "metadata": {},
   "outputs": [
    {
     "name": "stdout",
     "output_type": "stream",
     "text": [
      "439\n"
     ]
    }
   ],
   "source": [
    "from langchain_community.document_loaders import GitLoader\n",
    "\n",
    "def file_filter(file_path: str) -> bool:\n",
    "    return file_path.endswith(\".mdx\")\n",
    "\n",
    "loader = GitLoader(\n",
    "    clone_url=\"https://github.com/langchain-ai/langchain\",\n",
    "    branch=\"master\",\n",
    "    repo_path=\"./langchain\",\n",
    "    file_filter=file_filter\n",
    ")\n",
    "\n",
    "documents = loader.load()\n",
    "print(len(documents))"
   ]
  },
  {
   "cell_type": "code",
   "execution_count": 42,
   "id": "865db9d7",
   "metadata": {},
   "outputs": [],
   "source": [
    "from langchain_chroma import Chroma\n",
    "from langchain_openai import AzureOpenAIEmbeddings\n",
    "\n",
    "emb = AzureOpenAIEmbeddings(\n",
    "    model = \"text-embedding-ada-002\"\n",
    ")\n",
    "# AOAI の RateLimit で 429 を避けるため、ドキュメントの数を絞る\n",
    "db = Chroma.from_documents(documents[:10], emb)"
   ]
  },
  {
   "cell_type": "code",
   "execution_count": 43,
   "id": "c8ddcf3c",
   "metadata": {},
   "outputs": [],
   "source": [
    "from langchain_core.output_parsers import StrOutputParser\n",
    "from langchain_core.prompts import ChatPromptTemplate\n",
    "from langchain_core.runnables import RunnablePassthrough\n",
    "from langchain_openai import AzureChatOpenAI\n",
    "\n",
    "prompt = ChatPromptTemplate.from_template(\n",
    "    '''\n",
    "    以下の文脈だけを参考にして、質問に答えてください。\n",
    "    文脈: {context}\n",
    "    質問: {question}\n",
    "    '''\n",
    ")"
   ]
  },
  {
   "cell_type": "code",
   "execution_count": 44,
   "id": "3e18c91a",
   "metadata": {},
   "outputs": [],
   "source": [
    "import os\n",
    "from azure.identity import ClientSecretCredential, get_bearer_token_provider\n",
    "\n",
    "token_provider = get_bearer_token_provider(\n",
    "    ClientSecretCredential(\n",
    "        client_id=os.getenv(\"client_id\"),\n",
    "        client_secret=os.getenv(\"client_secret\"),\n",
    "        tenant_id=os.getenv(\"tenant_id\")\n",
    "    ),\n",
    "    \"https://cognitiveservices.azure.com/.default\"\n",
    ")\n",
    "llm = AzureChatOpenAI(\n",
    "    azure_deployment=\"gpt-4o\",\n",
    "    api_version=\"2024-02-15-preview\",\n",
    "    azure_ad_token_provider=token_provider,\n",
    "    temperature=0\n",
    ")"
   ]
  },
  {
   "cell_type": "code",
   "execution_count": 45,
   "id": "a4f31d44",
   "metadata": {},
   "outputs": [],
   "source": [
    "retriever = db.as_retriever()"
   ]
  },
  {
   "cell_type": "code",
   "execution_count": 46,
   "id": "98b10b50",
   "metadata": {},
   "outputs": [
    {
     "name": "stdout",
     "output_type": "stream",
     "text": [
      "LangChainは、大規模言語モデル（LLMs）を活用したアプリケーションを開発するためのフレームワークです。このフレームワークは、LLMアプリケーションのライフサイクル全体を簡素化することを目的としています。以下にLangChainの主な特徴を説明します。\n",
      "\n",
      "---\n",
      "\n",
      "### **LangChainの主な機能**\n",
      "1. **開発（Development）**:\n",
      "   - LangChainは、オープンソースのコンポーネントやサードパーティの統合を利用してアプリケーションを構築できます。\n",
      "   - [LangGraph](https://langchain-ai.github.io/langgraph/)を使用して、ストリーミングや人間の介入をサポートする状態保持型エージェントを構築できます。\n",
      "\n",
      "2. **プロダクション化（Productionization）**:\n",
      "   - [LangSmith](https://docs.smith.langchain.com/)を使用して、アプリケーションを検査、監視、評価し、継続的に最適化して自信を持ってデプロイできます。\n",
      "\n",
      "3. **デプロイメント（Deployment）**:\n",
      "   - LangGraphアプリケーションをプロダクション対応のAPIやアシスタントに変換するための[LangGraph Platform](https://docs.langchain.com/langgraph-platform)を提供しています。\n",
      "\n",
      "---\n",
      "\n",
      "### **LangChainのアーキテクチャ**\n",
      "LangChainは複数のオープンソースライブラリで構成されています。\n",
      "- **`langchain-core`**: チャットモデルやその他のコンポーネントの基本的な抽象化を提供。\n",
      "- **統合パッケージ**: 重要な統合（例: `langchain-openai`, `langchain-anthropic`など）は軽量パッケージとして分割され、LangChainチームと統合開発者によって共同管理されています。\n",
      "- **`langchain`**: チェーン、エージェント、検索戦略など、アプリケーションの認知アーキテクチャを構成する要素。\n",
      "- **`langchain-community`**: コミュニティによって維持されるサードパーティ統合。\n",
      "- **`langgraph`**: LangChainコンポーネントを組み合わせて、永続性やストリーミングなどの機能を備えたプロダクション対応アプリケーションを構築するためのオーケストレーションフレームワーク。\n",
      "\n",
      "---\n",
      "\n",
      "### **学習リソース**\n",
      "LangChainを学ぶためのリソースが豊富に提供されています。\n",
      "\n",
      "#### **チュートリアル**\n",
      "- [LangChain v 0.1 by LangChain.ai](https://www.youtube.com/playlist?list=PLfaIDFEXuae0gBSJ9T0w7cu7iJZbH3T31)\n",
      "- [Build with Langchain - Advanced by LangChain.ai](https://www.youtube.com/playlist?list=PLfaIDFEXuae06tclDATrMYY0idsTdLg9v)\n",
      "- [LangGraph by LangChain.ai](https://www.youtube.com/playlist?list=PLfaIDFEXuae16n2TWUkKq5PgJ0w6Pkwtg)\n",
      "\n",
      "#### **オンラインコース**\n",
      "- [Deeplearning.AI](https://www.deeplearning.ai/short-courses/langchain-for-llm-application-development/)\n",
      "- [Udemy](https://www.udemy.com/courses/search/?q=langchain)\n",
      "- [Coursera](https://www.coursera.org/search?query=langchain)\n",
      "\n",
      "#### **書籍**\n",
      "- [Generative AI with LangChain](https://www.amazon.com/Generative-AI-LangChain-language-ChatGPT/dp/1835083463) by Ben Auffrath\n",
      "- [LangChain AI Handbook](https://www.pinecone.io/learn/langchain/) by James Briggs and Francisco Ingham\n",
      "\n",
      "---\n",
      "\n",
      "### **LangChainのエコシステム**\n",
      "1. **LangSmith**:\n",
      "   - 言語モデルアプリケーションやインテリジェントエージェントをトレース・評価するツール。\n",
      "   - プロトタイプからプロダクションへの移行を支援。\n",
      "\n",
      "2. **LangGraph**:\n",
      "   - 状態保持型のマルチアクターアプリケーションを構築するためのフレームワーク。\n",
      "   - LinkedIn、Uber、Klarna、GitLabなどの企業で信頼されています。\n",
      "\n",
      "---\n",
      "\n",
      "LangChainは、LLMを活用したアプリケーション開発を効率化し、開発者が迅速にプロダクション対応のソリューションを構築できるようにする強力なツールです。\n"
     ]
    }
   ],
   "source": [
    "# 最初の {\"context\": retriever, \"question\": RunnablePassthrough()} は RunnableParallel が効いている\n",
    "# そのため、context と question は同時に処理される\n",
    "# chain.invoke の引数は並行して retriever と RunnablePassthrough に渡される\n",
    "chain = {\n",
    "    \"context\": retriever,\n",
    "    \"question\": RunnablePassthrough()\n",
    "} | prompt | llm | StrOutputParser()\n",
    "\n",
    "output = chain.invoke(\"LangChainについて教えてください。\")\n",
    "print(output)"
   ]
  },
  {
   "cell_type": "code",
   "execution_count": 47,
   "id": "86e667e8",
   "metadata": {},
   "outputs": [
    {
     "name": "stdout",
     "output_type": "stream",
     "text": [
      "LangChainは、大規模言語モデル（LLMs）を活用したアプリケーションを開発するためのフレームワークです。このフレームワークは、LLMアプリケーションのライフサイクル全体を簡素化することを目的としています。以下にLangChainの主な特徴と機能を説明します。\n",
      "\n",
      "---\n",
      "\n",
      "### **LangChainの特徴**\n",
      "1. **開発（Development）**:\n",
      "   - LangChainは、オープンソースのコンポーネントやサードパーティの統合を利用してアプリケーションを構築できます。\n",
      "   - [LangGraph](https://langchain-ai.github.io/langgraph/)を使用して、ストリーミングや人間の介入をサポートする状態管理エージェントを構築可能です。\n",
      "\n",
      "2. **プロダクション化（Productionization）**:\n",
      "   - [LangSmith](https://docs.smith.langchain.com/)を使用して、アプリケーションの検査、監視、評価を行い、継続的な最適化と信頼性のあるデプロイを実現します。\n",
      "\n",
      "3. **デプロイメント（Deployment）**:\n",
      "   - LangGraphアプリケーションをプロダクション対応のAPIやアシスタントに変換するための[LangGraph Platform](https://docs.langchain.com/langgraph-platform)を提供します。\n",
      "\n",
      "---\n",
      "\n",
      "### **LangChainのアーキテクチャ**\n",
      "LangChainは複数のオープンソースライブラリで構成されています：\n",
      "- **`langchain-core`**: チャットモデルやその他のコンポーネントの基本的な抽象化を提供。\n",
      "- **統合パッケージ**: 主要な統合（例: `langchain-openai`, `langchain-anthropic`）は軽量パッケージとして提供され、LangChainチームと統合開発者によって共同管理されています。\n",
      "- **`langchain`**: チェーン、エージェント、情報検索戦略など、アプリケーションの認知アーキテクチャを構成。\n",
      "- **`langchain-community`**: コミュニティによって管理されるサードパーティ統合。\n",
      "- **`langgraph`**: LangChainコンポーネントを組み合わせて、永続性やストリーミングなどの機能を備えたプロダクション対応アプリケーションを構築するためのオーケストレーションフレームワーク。\n",
      "\n",
      "---\n",
      "\n",
      "### **学習リソース**\n",
      "LangChainを学ぶためのリソースが豊富に提供されています：\n",
      "\n",
      "#### **チュートリアル**\n",
      "- [LangChain v 0.1 by LangChain.ai](https://www.youtube.com/playlist?list=PLfaIDFEXuae0gBSJ9T0w7cu7iJZbH3T31)\n",
      "- [Build with Langchain - Advanced by LangChain.ai](https://www.youtube.com/playlist?list=PLfaIDFEXuae06tclDATrMYY0idsTdLg9v)\n",
      "- [LangGraph by LangChain.ai](https://www.youtube.com/playlist?list=PLfaIDFEXuae16n2TWUkKq5PgJ0w6Pkwtg)\n",
      "\n",
      "#### **オンラインコース**\n",
      "- [Deeplearning.AIのコース](https://www.deeplearning.ai/short-courses/langchain-for-llm-application-development/)\n",
      "- [Udemy](https://www.udemy.com/courses/search/?q=langchain)\n",
      "- [Coursera](https://www.coursera.org/search?query=langchain)\n",
      "\n",
      "#### **書籍**\n",
      "- [Generative AI with LangChain](https://www.amazon.com/Generative-AI-LangChain-language-ChatGPT/dp/1835083463) by Ben Auffrath\n",
      "- [LangChain AI Handbook](https://www.pinecone.io/learn/langchain/) by James Briggs and Francisco Ingham\n",
      "\n",
      "---\n",
      "\n",
      "### **エコシステム**\n",
      "1. **LangSmith**:\n",
      "   - アプリケーションのトレースと評価を行い、プロトタイプからプロダクションへの移行を支援します。\n",
      "\n",
      "2. **LangGraph**:\n",
      "   - 複数のアクターを持つ状態管理型アプリケーションを構築可能。LinkedInやUberなどの企業で信頼されています。\n",
      "\n",
      "---\n",
      "\n",
      "LangChainは、LLMを活用したアプリケーション開発を効率化し、開発者が迅速にプロトタイプを作成し、信頼性の高いプロダクション環境に移行できるよう支援する強力なツールです。\n"
     ]
    }
   ],
   "source": [
    "chain = {\n",
    "    \"context\": retriever,\n",
    "    \"question\": RunnablePassthrough()\n",
    "} | RunnablePassthrough.assign( ans = prompt | llm | StrOutputParser())\n",
    "\n",
    "output = chain.invoke(\"LangChainについて教えてください。\")\n",
    "print(output['ans'])"
   ]
  },
  {
   "cell_type": "markdown",
   "id": "0ff16a70",
   "metadata": {},
   "source": [
    "## HyDE というテクニック\n",
    "確かに、RAGの仕組み上疑問ではあったが、なぜ質問に対して類似する文章をベクトルDBから探すんだろうと思っていた。\n",
    "探しているのは回答なので、一度LLMに回答を出力させてからそれに類似するチャンクをDBから引っ張ってくるほうが分布としては近いんじゃないか？というのがHyDE。\n",
    "つまり、ベクトルDBに対する検索クエリの工夫によって精度向上を目指すという話ね。\n"
   ]
  },
  {
   "cell_type": "code",
   "execution_count": 48,
   "id": "edf2c98c",
   "metadata": {},
   "outputs": [],
   "source": [
    "hypothetical_prompt = ChatPromptTemplate.from_template(\n",
    "    '''\n",
    "    次の質問に回答する一文を書いてください。\n",
    "    質問: {question}\n",
    "    '''\n",
    ")\n",
    "hypo_chain = hypothetical_prompt | llm | StrOutputParser()"
   ]
  },
  {
   "cell_type": "code",
   "execution_count": 49,
   "id": "3c5a9e83",
   "metadata": {},
   "outputs": [
    {
     "name": "stdout",
     "output_type": "stream",
     "text": [
      "LangChainは、LLM（大規模言語モデル）を活用したアプリケーションの開発を支援するフレームワークで、プロンプト管理、チェーン構築、外部データとの連携などを容易にするツールです。\n"
     ]
    }
   ],
   "source": [
    "# 本来ユーザからの質問が直接 retriever に渡るのを、hypo_chain の出力を渡すようにする\n",
    "hyde_rag_chain = {\n",
    "    \"context\": hypo_chain | retriever,\n",
    "    \"question\": RunnablePassthrough()\n",
    "} | RunnablePassthrough.assign( ans = hypothetical_prompt | llm | StrOutputParser())\n",
    "output = hyde_rag_chain.invoke(\"LangChainについて教えてください。\")\n",
    "print(output['ans'])"
   ]
  },
  {
   "cell_type": "markdown",
   "id": "93787b16",
   "metadata": {},
   "source": [
    "## ユーザのクエリの違うパターンを LLM に生成させる\n",
    "これにより、類似の質問が複数渡されるため、BootStrapのようなイメージで少し異なるコンテキストに対する retrieve 結果をもとに回答できる。"
   ]
  },
  {
   "cell_type": "markdown",
   "id": "bd058161",
   "metadata": {},
   "source": [
    "## 複数クエリを与える場合のチャンクの重みづけ\n",
    "複数クエリのそれぞれで共通して参照されるチャンクは重みをつけることで、なるべくそのチャンクを重視した最終回答を生成させる。やり方としては、RRF値による並べ替え、並べ替え＋上位ｎ位以下の切り捨て、など"
   ]
  },
  {
   "cell_type": "markdown",
   "id": "833adf45",
   "metadata": {},
   "source": [
    "## 単一クエリの場合の参照チャンクのリランク\n",
    "ユーザのクエリと近いベクトルを持つチャンクを複数引っ張ってきたのち、そのチャンクをリランクタスクにおいて精度の高い別のモデルによって再度並べ替えを行う"
   ]
  },
  {
   "cell_type": "code",
   "execution_count": 50,
   "id": "c655ac83",
   "metadata": {},
   "outputs": [
    {
     "name": "stdout",
     "output_type": "stream",
     "text": [
      "[Document(id='218069c7-6e2b-4733-821a-ba3579b9dcf1', metadata={'file_name': 'introduction.mdx', 'source': 'docs\\\\docs\\\\introduction.mdx', 'file_path': 'docs\\\\docs\\\\introduction.mdx', 'file_type': '.mdx'}, page_content='---\\nsidebar_position: 0\\nsidebar_class_name: hidden\\n---\\n\\n# Introduction\\n\\n**LangChain** is a framework for developing applications powered by large language models (LLMs).\\n\\nLangChain simplifies every stage of the LLM application lifecycle:\\n- **Development**: Build your applications using LangChain\\'s open-source [components](/docs/concepts) and [third-party integrations](/docs/integrations/providers/).\\nUse [LangGraph](/docs/concepts/architecture/#langgraph) to build stateful agents with first-class streaming and human-in-the-loop support.\\n- **Productionization**: Use [LangSmith](https://docs.smith.langchain.com/) to inspect, monitor and evaluate your applications, so that you can continuously optimize and deploy with confidence.\\n- **Deployment**: Turn your LangGraph applications into production-ready APIs and Assistants with [LangGraph Platform](https://docs.langchain.com/langgraph-platform).\\n\\nimport ThemedImage from \\'@theme/ThemedImage\\';\\nimport useBaseUrl from \\'@docusaurus/useBaseUrl\\';\\n\\n<ThemedImage\\n  alt=\"Diagram outlining the hierarchical organization of the LangChain framework, displaying the interconnected parts across multiple layers.\"\\n  sources={{\\n    light: useBaseUrl(\\'/svg/langchain_stack_112024.svg\\'),\\n    dark: useBaseUrl(\\'/svg/langchain_stack_112024_dark.svg\\'),\\n  }}\\n  style={{ width: \"100%\" }}\\n  title=\"LangChain Framework Overview\"\\n/>\\n\\nLangChain implements a standard interface for large language models and related\\ntechnologies, such as embedding models and vector stores, and integrates with\\nhundreds of providers. See the [integrations](/docs/integrations/providers/) page for\\nmore.\\n\\nimport ChatModelTabs from \"@theme/ChatModelTabs\";\\n\\n<ChatModelTabs/>\\n\\n```python\\nmodel.invoke(\"Hello, world!\")\\n```\\n\\n:::note\\n\\nThese docs focus on the Python LangChain library. [Head here](https://js.langchain.com) for docs on the JavaScript LangChain library.\\n\\n:::\\n\\n## Architecture\\n\\nThe LangChain framework consists of multiple open-source libraries. Read more in the\\n[Architecture](/docs/concepts/architecture/) page.\\n\\n- **`langchain-core`**: Base abstractions for chat models and other components.\\n- **Integration packages** (e.g. `langchain-openai`, `langchain-anthropic`, etc.): Important integrations have been split into lightweight packages that are co-maintained by the LangChain team and the integration developers.\\n- **`langchain`**: Chains, agents, and retrieval strategies that make up an application\\'s cognitive architecture.\\n- **`langchain-community`**: Third-party integrations that are community maintained.\\n- **`langgraph`**: Orchestration framework for combining LangChain components into production-ready applications with persistence, streaming, and other key features. See [LangGraph documentation](https://langchain-ai.github.io/langgraph/).\\n\\n## Guides\\n\\n### [Tutorials](/docs/tutorials)\\n\\nIf you\\'re looking to build something specific or are more of a hands-on learner, check out our [tutorials section](/docs/tutorials).\\nThis is the best place to get started.\\n\\nThese are the best ones to get started with:\\n\\n- [Build a Simple LLM Application](/docs/tutorials/llm_chain)\\n- [Build a Chatbot](/docs/tutorials/chatbot)\\n- [Build an Agent](/docs/tutorials/agents)\\n- [Introduction to LangGraph](https://langchain-ai.github.io/langgraph/tutorials/introduction/)\\n\\nExplore the full list of LangChain tutorials [here](/docs/tutorials), and check out other [LangGraph tutorials here](https://langchain-ai.github.io/langgraph/tutorials/). To learn more about LangGraph, check out our first LangChain Academy course, *Introduction to LangGraph*, available [here](https://academy.langchain.com/courses/intro-to-langgraph).\\n\\n\\n### [How-to guides](/docs/how_to)\\n\\n[Here](/docs/how_to) you’ll find short answers to “How do I….?” types of questions.\\nThese how-to guides don’t cover topics in depth – you’ll find that material in the [Tutorials](/docs/tutorials) and the [API Reference](https://python.langchain.com/api_reference/).\\nHowever, these guides will help you quickly accomplish common tasks using [chat models](/docs/how_to/#chat-models),\\n[vector stores](/docs/how_to/#vector-stores), and other common LangChain components.\\n\\nCheck out [LangGraph-specific how-tos here](https://langchain-ai.github.io/langgraph/how-tos/).\\n\\n### [Conceptual guide](/docs/concepts)\\n\\nIntroductions to all the key parts of LangChain you’ll need to know! [Here](/docs/concepts) you\\'ll find high level explanations of all LangChain concepts.\\n\\nFor a deeper dive into LangGraph concepts, check out [this page](https://langchain-ai.github.io/langgraph/concepts/).\\n\\n### [Integrations](integrations/providers/index.mdx)\\n\\nLangChain is part of a rich ecosystem of tools that integrate with our framework and build on top of it.\\nIf you\\'re looking to get up and running quickly with [chat models](/docs/integrations/chat/), [vector stores](/docs/integrations/vectorstores/),\\nor other LangChain components from a specific provider, check out our growing list of [integrations](/docs/integrations/providers/).\\n\\n\\n### [API reference](https://python.langchain.com/api_reference/)\\nHead to the reference section for full documentation of all classes and methods in the LangChain Python packages.\\n\\n## Ecosystem\\n\\n### [🦜🛠️ LangSmith](https://docs.smith.langchain.com)\\nTrace and evaluate your language model applications and intelligent agents to help you move from prototype to production.\\n\\n### [🦜🕸️ LangGraph](https://langchain-ai.github.io/langgraph)\\nBuild stateful, multi-actor applications with LLMs. Integrates smoothly with LangChain, but can be used without it. LangGraph powers production-grade agents, trusted by LinkedIn, Uber, Klarna, GitLab, and many more.\\n\\n## Additional resources\\n\\n### [Versions](/docs/versions/v0_3/)\\nSee what changed in v0.3, learn how to migrate legacy code, read up on our versioning policies, and more.\\n\\n### [Security](/docs/security)\\nRead up on [security](/docs/security) best practices to make sure you\\'re developing safely with LangChain.\\n\\n### [Contributing](contributing/index.mdx)\\nCheck out the developer\\'s guide for guidelines on contributing and help getting your dev environment set up.\\n'), Document(id='abceae40-7f3b-4293-8ef4-a5c42e9acda3', metadata={'file_type': '.mdx', 'file_path': 'docs\\\\docs\\\\introduction.mdx', 'file_name': 'introduction.mdx', 'source': 'docs\\\\docs\\\\introduction.mdx'}, page_content='---\\nsidebar_position: 0\\nsidebar_class_name: hidden\\n---\\n\\n# Introduction\\n\\n**LangChain** is a framework for developing applications powered by large language models (LLMs).\\n\\nLangChain simplifies every stage of the LLM application lifecycle:\\n- **Development**: Build your applications using LangChain\\'s open-source [components](/docs/concepts) and [third-party integrations](/docs/integrations/providers/).\\nUse [LangGraph](/docs/concepts/architecture/#langgraph) to build stateful agents with first-class streaming and human-in-the-loop support.\\n- **Productionization**: Use [LangSmith](https://docs.smith.langchain.com/) to inspect, monitor and evaluate your applications, so that you can continuously optimize and deploy with confidence.\\n- **Deployment**: Turn your LangGraph applications into production-ready APIs and Assistants with [LangGraph Platform](https://docs.langchain.com/langgraph-platform).\\n\\nimport ThemedImage from \\'@theme/ThemedImage\\';\\nimport useBaseUrl from \\'@docusaurus/useBaseUrl\\';\\n\\n<ThemedImage\\n  alt=\"Diagram outlining the hierarchical organization of the LangChain framework, displaying the interconnected parts across multiple layers.\"\\n  sources={{\\n    light: useBaseUrl(\\'/svg/langchain_stack_112024.svg\\'),\\n    dark: useBaseUrl(\\'/svg/langchain_stack_112024_dark.svg\\'),\\n  }}\\n  style={{ width: \"100%\" }}\\n  title=\"LangChain Framework Overview\"\\n/>\\n\\nLangChain implements a standard interface for large language models and related\\ntechnologies, such as embedding models and vector stores, and integrates with\\nhundreds of providers. See the [integrations](/docs/integrations/providers/) page for\\nmore.\\n\\nimport ChatModelTabs from \"@theme/ChatModelTabs\";\\n\\n<ChatModelTabs/>\\n\\n```python\\nmodel.invoke(\"Hello, world!\")\\n```\\n\\n:::note\\n\\nThese docs focus on the Python LangChain library. [Head here](https://js.langchain.com) for docs on the JavaScript LangChain library.\\n\\n:::\\n\\n## Architecture\\n\\nThe LangChain framework consists of multiple open-source libraries. Read more in the\\n[Architecture](/docs/concepts/architecture/) page.\\n\\n- **`langchain-core`**: Base abstractions for chat models and other components.\\n- **Integration packages** (e.g. `langchain-openai`, `langchain-anthropic`, etc.): Important integrations have been split into lightweight packages that are co-maintained by the LangChain team and the integration developers.\\n- **`langchain`**: Chains, agents, and retrieval strategies that make up an application\\'s cognitive architecture.\\n- **`langchain-community`**: Third-party integrations that are community maintained.\\n- **`langgraph`**: Orchestration framework for combining LangChain components into production-ready applications with persistence, streaming, and other key features. See [LangGraph documentation](https://langchain-ai.github.io/langgraph/).\\n\\n## Guides\\n\\n### [Tutorials](/docs/tutorials)\\n\\nIf you\\'re looking to build something specific or are more of a hands-on learner, check out our [tutorials section](/docs/tutorials).\\nThis is the best place to get started.\\n\\nThese are the best ones to get started with:\\n\\n- [Build a Simple LLM Application](/docs/tutorials/llm_chain)\\n- [Build a Chatbot](/docs/tutorials/chatbot)\\n- [Build an Agent](/docs/tutorials/agents)\\n- [Introduction to LangGraph](https://langchain-ai.github.io/langgraph/tutorials/introduction/)\\n\\nExplore the full list of LangChain tutorials [here](/docs/tutorials), and check out other [LangGraph tutorials here](https://langchain-ai.github.io/langgraph/tutorials/). To learn more about LangGraph, check out our first LangChain Academy course, *Introduction to LangGraph*, available [here](https://academy.langchain.com/courses/intro-to-langgraph).\\n\\n\\n### [How-to guides](/docs/how_to)\\n\\n[Here](/docs/how_to) you’ll find short answers to “How do I….?” types of questions.\\nThese how-to guides don’t cover topics in depth – you’ll find that material in the [Tutorials](/docs/tutorials) and the [API Reference](https://python.langchain.com/api_reference/).\\nHowever, these guides will help you quickly accomplish common tasks using [chat models](/docs/how_to/#chat-models),\\n[vector stores](/docs/how_to/#vector-stores), and other common LangChain components.\\n\\nCheck out [LangGraph-specific how-tos here](https://langchain-ai.github.io/langgraph/how-tos/).\\n\\n### [Conceptual guide](/docs/concepts)\\n\\nIntroductions to all the key parts of LangChain you’ll need to know! [Here](/docs/concepts) you\\'ll find high level explanations of all LangChain concepts.\\n\\nFor a deeper dive into LangGraph concepts, check out [this page](https://langchain-ai.github.io/langgraph/concepts/).\\n\\n### [Integrations](integrations/providers/index.mdx)\\n\\nLangChain is part of a rich ecosystem of tools that integrate with our framework and build on top of it.\\nIf you\\'re looking to get up and running quickly with [chat models](/docs/integrations/chat/), [vector stores](/docs/integrations/vectorstores/),\\nor other LangChain components from a specific provider, check out our growing list of [integrations](/docs/integrations/providers/).\\n\\n\\n### [API reference](https://python.langchain.com/api_reference/)\\nHead to the reference section for full documentation of all classes and methods in the LangChain Python packages.\\n\\n## Ecosystem\\n\\n### [🦜🛠️ LangSmith](https://docs.smith.langchain.com)\\nTrace and evaluate your language model applications and intelligent agents to help you move from prototype to production.\\n\\n### [🦜🕸️ LangGraph](https://langchain-ai.github.io/langgraph)\\nBuild stateful, multi-actor applications with LLMs. Integrates smoothly with LangChain, but can be used without it. LangGraph powers production-grade agents, trusted by LinkedIn, Uber, Klarna, GitLab, and many more.\\n\\n## Additional resources\\n\\n### [Versions](/docs/versions/v0_3/)\\nSee what changed in v0.3, learn how to migrate legacy code, read up on our versioning policies, and more.\\n\\n### [Security](/docs/security)\\nRead up on [security](/docs/security) best practices to make sure you\\'re developing safely with LangChain.\\n\\n### [Contributing](contributing/index.mdx)\\nCheck out the developer\\'s guide for guidelines on contributing and help getting your dev environment set up.\\n'), Document(id='c79964bb-a8c2-4c16-8cd1-c57c0b10fd8f', metadata={'file_path': 'docs\\\\docs\\\\additional_resources\\\\tutorials.mdx', 'file_name': 'tutorials.mdx', 'file_type': '.mdx', 'source': 'docs\\\\docs\\\\additional_resources\\\\tutorials.mdx'}, page_content='# 3rd Party Tutorials\\n\\n##  Tutorials\\n\\n### [LangChain v 0.1 by LangChain.ai](https://www.youtube.com/playlist?list=PLfaIDFEXuae0gBSJ9T0w7cu7iJZbH3T31)\\n### [Build with Langchain - Advanced by LangChain.ai](https://www.youtube.com/playlist?list=PLfaIDFEXuae06tclDATrMYY0idsTdLg9v)\\n### [LangGraph by LangChain.ai](https://www.youtube.com/playlist?list=PLfaIDFEXuae16n2TWUkKq5PgJ0w6Pkwtg)\\n### [by Greg Kamradt](https://www.youtube.com/playlist?list=PLqZXAkvF1bPNQER9mLmDbntNfSpzdDIU5)\\n### [by Sam Witteveen](https://www.youtube.com/playlist?list=PL8motc6AQftk1Bs42EW45kwYbyJ4jOdiZ)\\n### [by James Briggs](https://www.youtube.com/playlist?list=PLIUOU7oqGTLieV9uTIFMm6_4PXg-hlN6F)\\n### [by Prompt Engineering](https://www.youtube.com/playlist?list=PLVEEucA9MYhOu89CX8H3MBZqayTbcCTMr)\\n### [by Mayo Oshin](https://www.youtube.com/@chatwithdata/search?query=langchain)\\n### [by 1 little Coder](https://www.youtube.com/playlist?list=PLpdmBGJ6ELUK-v0MK-t4wZmVEbxM5xk6L)\\n### [by BobLin (Chinese language)](https://www.youtube.com/playlist?list=PLbd7ntv6PxC3QMFQvtWfk55p-Op_syO1C)\\n### [by Total Technology Zonne](https://youtube.com/playlist?list=PLI8raxzYtfGyE02fAxiM1CPhLUuqcTLWg&si=fkAye16rQKBJVHc9)\\n\\n## Courses\\n\\n### Featured courses on Deeplearning.AI\\n\\n- [LangChain for LLM Application Development](https://www.deeplearning.ai/short-courses/langchain-for-llm-application-development/)\\n- [LangChain Chat with Your Data](https://www.deeplearning.ai/short-courses/langchain-chat-with-your-data/)\\n- [Functions, Tools and Agents with LangChain](https://www.deeplearning.ai/short-courses/functions-tools-agents-langchain/)\\n- [Build LLM Apps with LangChain.js](https://www.deeplearning.ai/short-courses/build-llm-apps-with-langchain-js/)\\n\\n### Online courses\\n\\n- [Udemy](https://www.udemy.com/courses/search/?q=langchain)\\n- [DataCamp](https://www.datacamp.com/courses/developing-llm-applications-with-langchain)\\n- [Pluralsight](https://www.pluralsight.com/search?q=langchain)\\n- [Coursera](https://www.coursera.org/search?query=langchain)\\n- [Maven](https://maven.com/courses?query=langchain)\\n- [Udacity](https://www.udacity.com/catalog/all/any-price/any-school/any-skill/any-difficulty/any-duration/any-type/relevance/page-1?searchValue=langchain)\\n- [LinkedIn Learning](https://www.linkedin.com/search/results/learning/?keywords=langchain)\\n- [edX](https://www.edx.org/search?q=langchain)\\n- [freeCodeCamp](https://www.youtube.com/@freecodecamp/search?query=langchain)\\n\\n## Short Tutorials\\n\\n- [by Nicholas Renotte](https://youtu.be/MlK6SIjcjE8)\\n- [by Patrick Loeber](https://youtu.be/LbT1yp6quS8)\\n- [by Rabbitmetrics](https://youtu.be/aywZrzNaKjs)\\n- [by Ivan Reznikov](https://medium.com/@ivanreznikov/langchain-101-course-updated-668f7b41d6cb)\\n\\n## Books and Handbooks\\n\\n- [Generative AI with LangChain](https://www.amazon.com/Generative-AI-LangChain-language-ChatGPT/dp/1835083463/ref=sr_1_1?crid=1GMOMH0G7GLR&keywords=generative+ai+with+langchain&qid=1703247181&sprefix=%2Caps%2C298&sr=8-1) by [Ben Auffrath](https://www.amazon.com/stores/Ben-Auffarth/author/B08JQKSZ7D?ref=ap_rdr&store_ref=ap_rdr&isDramIntegrated=true&shoppingPortalEnabled=true), ©️ 2023 Packt Publishing\\n- [LangChain AI Handbook](https://www.pinecone.io/learn/langchain/) By **James Briggs** and **Francisco Ingham**\\n- [LangChain Cheatsheet](https://pub.towardsai.net/langchain-cheatsheet-all-secrets-on-a-single-page-8be26b721cde) by **Ivan Reznikov**\\n- [Dive into Langchain (Chinese language)](https://langchain.boblin.app/)\\n\\n---------------------\\n'), Document(id='24257e77-d73a-42bb-b11d-70480eaa9f86', metadata={'file_type': '.mdx', 'file_name': 'architecture.mdx', 'file_path': 'docs\\\\docs\\\\concepts\\\\architecture.mdx', 'source': 'docs\\\\docs\\\\concepts\\\\architecture.mdx'}, page_content='import ThemedImage from \\'@theme/ThemedImage\\';\\nimport useBaseUrl from \\'@docusaurus/useBaseUrl\\';\\n\\n# Architecture\\n\\nLangChain is a framework that consists of a number of packages.\\n\\n<ThemedImage\\n    alt=\"Diagram outlining the hierarchical organization of the LangChain framework, displaying the interconnected parts across multiple layers.\"\\n    sources={{\\n        light: useBaseUrl(\\'/svg/langchain_stack_112024.svg\\'),\\n        dark: useBaseUrl(\\'/svg/langchain_stack_112024_dark.svg\\'),\\n    }}\\n    title=\"LangChain Framework Overview\"\\n    style={{ width: \"100%\" }}\\n/>\\n\\n\\n## langchain-core\\n\\nThis package contains base abstractions for different components and ways to compose them together.\\nThe interfaces for core components like chat models, vector stores, tools and more are defined here.\\n**No third-party integrations are defined here.** The dependencies are kept purposefully very lightweight.\\n\\n## langchain\\n\\nThe main `langchain` package contains chains and retrieval strategies that make up an application\\'s cognitive architecture.\\nThese are NOT third-party integrations.\\nAll chains, agents, and retrieval strategies here are NOT specific to any one integration, but rather generic across all integrations.\\n\\n## Integration packages\\n\\nPopular integrations have their own packages (e.g. `langchain-openai`, `langchain-anthropic`, etc) so that they can be properly versioned and appropriately lightweight.\\n\\nFor more information see:\\n\\n* A list [integrations packages](/docs/integrations/providers/)\\n* The [API Reference](https://python.langchain.com/api_reference/) where you can find detailed information about each of the integration package.\\n\\n## langchain-community\\n\\nThis package contains third-party integrations that are maintained by the LangChain community.\\nKey integration packages are separated out (see above).\\nThis contains integrations for various components (chat models, vector stores, tools, etc).\\nAll dependencies in this package are optional to keep the package as lightweight as possible.\\n\\n## langgraph\\n\\n`langgraph` is an extension of `langchain` aimed at building robust and stateful multi-actor applications with LLMs by modeling steps as edges and nodes in a graph.\\n\\nLangGraph exposes high level interfaces for creating common types of agents, as well as a low-level API for composing custom flows.\\n\\n:::info[Further reading]\\n\\n* See our LangGraph overview [here](https://langchain-ai.github.io/langgraph/concepts/high_level/#core-principles).\\n* See our LangGraph Academy Course [here](https://academy.langchain.com/courses/intro-to-langgraph).\\n\\n:::\\n\\n## langserve\\n\\nA package to deploy LangChain chains as REST APIs. Makes it easy to get a production ready API up and running.\\n\\n:::important\\nLangServe is designed to primarily deploy simple Runnables and work with well-known primitives in langchain-core.\\n\\nIf you need a deployment option for LangGraph, you should instead be looking at LangGraph Platform (beta) which will be better suited for deploying LangGraph applications.\\n:::\\n\\nFor more information, see the [LangServe documentation](/docs/langserve).\\n\\n\\n## LangSmith\\n\\nA developer platform that lets you debug, test, evaluate, and monitor LLM applications.\\n\\nFor more information, see the [LangSmith documentation](https://docs.smith.langchain.com)\\n')]\n"
     ]
    }
   ],
   "source": [
    "print(output['context'])"
   ]
  },
  {
   "cell_type": "markdown",
   "id": "45ddf115",
   "metadata": {},
   "source": [
    "retrieve 用とリランク用に分けたり、retriever を複数にして LLM にルーティングさせたり、結局マルチエージェントとかTools、MCPっぽい構想なんだな(動的に手札を切らせる)"
   ]
  },
  {
   "cell_type": "markdown",
   "id": "14359de8",
   "metadata": {},
   "source": [
    "## 複数の Retriever\n",
    "LLM による埋め込みの ベクトル DB 内で距離を測るよりも、TF-IDFなどの出現率ベースのベクトルのほうが専門分野に強かったりする。そのため、Embedding BaseなRetrieverと、TF-IDFベースを組み合わせたりする。"
   ]
  },
  {
   "cell_type": "code",
   "execution_count": 51,
   "id": "90649b34",
   "metadata": {},
   "outputs": [],
   "source": [
    "# TF-IDFも合わせてみるか\n",
    "from langchain_community.retrievers import BM25Retriever\n",
    "\n",
    "bm25_retriever = BM25Retriever.from_documents(documents[:10]).with_config({\"run_name\": \"bm25_retriever\"})\n"
   ]
  },
  {
   "cell_type": "code",
   "execution_count": 52,
   "id": "748be073",
   "metadata": {},
   "outputs": [
    {
     "ename": "NameError",
     "evalue": "name 'xxxxx' is not defined",
     "output_type": "error",
     "traceback": [
      "\u001b[31m---------------------------------------------------------------------------\u001b[39m",
      "\u001b[31mNameError\u001b[39m                                 Traceback (most recent call last)",
      "\u001b[36mCell\u001b[39m\u001b[36m \u001b[39m\u001b[32mIn[52]\u001b[39m\u001b[32m, line 4\u001b[39m\n\u001b[32m      1\u001b[39m hybrid_retriever = {\n\u001b[32m      2\u001b[39m     \u001b[33m\"\u001b[39m\u001b[33mbm25_documents\u001b[39m\u001b[33m\"\u001b[39m:bm25_retriever,\n\u001b[32m      3\u001b[39m     \u001b[33m\"\u001b[39m\u001b[33mchroma_documents\u001b[39m\u001b[33m\"\u001b[39m:retriever\n\u001b[32m----> \u001b[39m\u001b[32m4\u001b[39m } | \u001b[43mxxxxx\u001b[49m | rerank_process\n\u001b[32m      5\u001b[39m \u001b[38;5;66;03m# みたいな感じで、両方の retriever から出てきた Document を RRF に従って並べ替える\u001b[39;00m\n\u001b[32m      6\u001b[39m \u001b[38;5;66;03m# こんな感じで、最終的には 1つの retriever にまとめることができる\u001b[39;00m\n",
      "\u001b[31mNameError\u001b[39m: name 'xxxxx' is not defined"
     ]
    }
   ],
   "source": [
    "hybrid_retriever = {\n",
    "    \"bm25_documents\":bm25_retriever,\n",
    "    \"chroma_documents\":retriever\n",
    "} | xxxxx | rerank_process\n",
    "# みたいな感じで、両方の retriever から出てきた Document を RRF に従って並べ替える\n",
    "# こんな感じで、最終的には 1つの retriever にまとめることができる"
   ]
  },
  {
   "cell_type": "code",
   "execution_count": null,
   "id": "20072d05",
   "metadata": {},
   "outputs": [],
   "source": []
  }
 ],
 "metadata": {
  "kernelspec": {
   "display_name": "langgraph_env",
   "language": "python",
   "name": "python3"
  },
  "language_info": {
   "codemirror_mode": {
    "name": "ipython",
    "version": 3
   },
   "file_extension": ".py",
   "mimetype": "text/x-python",
   "name": "python",
   "nbconvert_exporter": "python",
   "pygments_lexer": "ipython3",
   "version": "3.11.11"
  }
 },
 "nbformat": 4,
 "nbformat_minor": 5
}
