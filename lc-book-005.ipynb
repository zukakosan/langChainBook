{
 "cells": [
  {
   "cell_type": "code",
   "execution_count": 15,
   "id": "6d17911f",
   "metadata": {},
   "outputs": [
    {
     "name": "stdout",
     "output_type": "stream",
     "text": [
      "The dotenv extension is already loaded. To reload it, use:\n",
      "  %reload_ext dotenv\n"
     ]
    }
   ],
   "source": [
    "%load_ext dotenv\n",
    "%dotenv"
   ]
  },
  {
   "cell_type": "code",
   "execution_count": 2,
   "id": "f8120eac",
   "metadata": {},
   "outputs": [],
   "source": [
    "import os\n"
   ]
  },
  {
   "cell_type": "code",
   "execution_count": 17,
   "id": "dad7bd55",
   "metadata": {},
   "outputs": [],
   "source": [
    "key = os.getenv(\"TAVILY_API_KEY\")\n",
    "# print(key)"
   ]
  },
  {
   "cell_type": "markdown",
   "id": "4dd4e64c",
   "metadata": {},
   "source": [
    "# TAVIRY を使用した RAG の実装"
   ]
  },
  {
   "cell_type": "code",
   "execution_count": null,
   "id": "94bba9d4",
   "metadata": {},
   "outputs": [],
   "source": [
    "from langchain_core.prompts import ChatPromptTemplate\n",
    "from langchain_openai import AzureChatOpenAI\n",
    "from azure.identity import ClientSecretCredential, get_bearer_token_provider\n",
    "from langchain_core.output_parsers import StrOutputParser\n",
    "\n",
    "\n",
    "prompt = ChatPromptTemplate.from_template('''\n",
    "                                          以下の文脈だけを踏まえて質問に回答してください\n",
    "                                          文脈:\"\"\"\n",
    "                                          {context}\n",
    "                                          \"\"\"\n",
    "                                          質問: {question}\n",
    "                                          ''')\n",
    "\n",
    "cred = ClientSecretCredential(\n",
    "    client_id=os.getenv(\"client_id\"),\n",
    "    client_secret=os.getenv(\"client_secret\"),\n",
    "    tenant_id=os.getenv(\"tenant_id\")\n",
    ")\n",
    "\n",
    "token_provider = get_bearer_token_provider(\n",
    "    cred,\n",
    "    \"https://cognitiveservices.azure.com/.default\"\n",
    ")\n",
    "\n",
    "llm = AzureChatOpenAI(\n",
    "    azure_deployment=\"gpt-4o\",\n",
    "    api_version=\"2024-02-15-preview\",\n",
    "    azure_endpoint=os.getenv(\"azure_endpoint\"),\n",
    "    azure_ad_token_provider=token_provider\n",
    ")"
   ]
  },
  {
   "cell_type": "code",
   "execution_count": 18,
   "id": "b1902387",
   "metadata": {},
   "outputs": [],
   "source": [
    "from langchain_community.retrievers import TavilySearchAPIRetriever\n",
    "\n",
    "retriever = TavilySearchAPIRetriever(k=3)"
   ]
  },
  {
   "cell_type": "code",
   "execution_count": 19,
   "id": "1ddfc129",
   "metadata": {},
   "outputs": [],
   "source": [
    "from langchain_core.runnables import RunnablePassthrough\n",
    "\n",
    "# assign method を使うことで、 ans に結果を格納でき、retriever からの応答を別に使えます\n",
    "chain = (\n",
    "    {\"context\": retriever, \"question\": RunnablePassthrough()}\n",
    "    | RunnablePassthrough.assign( ans = prompt | llm | StrOutputParser())\n",
    ")"
   ]
  },
  {
   "cell_type": "code",
   "execution_count": 22,
   "id": "136c9149",
   "metadata": {},
   "outputs": [
    {
     "name": "stdout",
     "output_type": "stream",
     "text": [
      "{'context': [Document(metadata={'title': '東京の明日の天気予報：東京新聞デジタル', 'source': 'https://www.tokyo-np.co.jp/weather/area_tomorrow/0313', 'score': 0.89279664, 'images': []}, page_content='* 天気トップ * 全国の天気 * 雨雲レーダー * 注意報･警報 * 台風 * 地震 * 津波 * 紫外線 * 花粉 今日の天気 明日の天気 8月30日（土）11時00分発表 最高気温 36℃ 最低気温 27℃ 晴れ 時々 くもり 所により 昼過ぎ から 雨 で 雷を伴う 降水確率 確率 時刻 洗濯指数 とてもよく乾く 花粉 少ない 紫外線 強い * 時刻 * 予報 * 気温(℃) * 風向 + 南 + 南 + 南 + 南 + 北西 + 北西 + 北西 + 東 * 風速 + 疾風 + 疾風 + 疾風 + 弱風 + 弱風 + 弱風 + 弱風 + 弱風 ※時刻の過ぎた部分は過去の予報値です。 ## 週間天気 8月30日（土）11時00分発表 東京地方 雷    伊豆諸島北部 解除    伊豆諸島南部 解除    小笠原諸島 雷    ２３区西部\\u3000発表注意報・警報はなし   ２３区東部\\u3000発表注意報・警報はなし   多摩北部\\u3000発表注意報・警報はなし   多摩西部\\u3000(継続)雷注意報   多摩南部\\u3000発表注意報・警報はなし   大島\\u3000(解除)濃霧注意報   新島\\u3000(解除)濃霧注意報   八丈島\\u3000発表注意報・警報はなし   三宅島\\u3000(解除)濃霧注意報   小笠原諸島\\u3000(継続)雷注意報'), Document(metadata={'title': '東京の天気予報 - ウェザーニュース', 'source': 'https://weathernews.jp/onebox/tenki/tokyo/', 'score': 0.7734393, 'images': []}, page_content='* トップ * 関東 * 東京 # 東京の天気予報 28木 29金 30土 31日 1月 2火 3水 4木 雲が多めでも厳しい残暑 金曜日は時々雲が広がるものの、強い日差しが届きます。昼間は厳しい残暑で、熱中症対策や紫外線対策が必須。午後ほどにわか雨や雷雨が心配なので、外出の際は折りたたみ傘がお守りです。 ## 東京都千代田区の1時間毎の天気 * 日 * 時 * 天気 * 降水ミリ * 気温℃ * 風速m 28日(木) 29日(金) 30日(土) 31日(日) * 前へ * 次へ 千代田区の詳しい天気はこちら ## 東京都千代田区の週間天気予報（10日間） * 日 * 天気 * 最高℃ * 最低℃ * 降水% (水) (木) (金) (土) (日) (月) (火) (水) (木) (金) 東京の2週間天気はこちら ## 市区町村別の天気予報 * ### 東京地方 * 千代田区 * 中央区 * 港区 * 新宿区 * 文京区 * 台東区 * 墨田区 * 江東区 * 品川区 * 目黒区 * 大田区 * 世田谷区 * 渋谷区 * 中野区 * 杉並区 * 豊島区 * 北区 * 荒川区 * 板橋区 * 練馬区 明日8月29日(金)の熱中症警戒アラート\\u3000東海から西の19府県に発表 * 【ライブ】最新天気ニュース・地震情報 2025年8月28日(木)／明日も厳しい暑さ続く〈ウェザーニュースLiVEムーン・山岸 愛梨／本田 竜也〉 * 【西は厳しい残暑続く】お天気キャスター解説 あす 8月29日(金)の天気'), Document(metadata={'title': '東京の天気予報(1時間・今日明日・週間) - ウェザーニュース', 'source': 'https://weathernews.jp/onebox/tenki/tokyo/13100/', 'score': 0.77261686, 'images': []}, page_content='* 日 26日(火) * 29℃ * 29℃ * 29℃ * 29℃ * 29℃ 27日(水) * 28℃ * 28℃ * 28℃ * 28℃ * 28℃ * 27℃ * 28℃ * 29℃ * 31℃ * 33℃ * 33℃ * 34℃ * 35℃ * 35℃ * 34℃ * 34℃ * 32℃ * 31℃ * 31℃ * 30℃ * 29℃ * 29℃ * 29℃ * 29℃ 28日(木) * 28℃ * 28℃ * 28℃ * 27℃ * 28℃ * 27℃ * 28℃ * 28℃ * 29℃ * 31℃ * 30℃ * 31℃ * 31℃ * 32℃ * 32℃ * 32℃ 29日(金) 30日(土) ### 8月26日 (火) ### 8月27日 (水) ### 今日の天気 8月28日 (木) ### 明日の天気 8月29日 (金) * 日 (日) (日) (日) * 日 8月28日(木)08:27 8月28日(木)08:27')], 'question': '東京の明日の天気は？', 'ans': '東京の明日の天気は晴れ時々曇りで、昼過ぎから一部で雨や雷を伴う可能性があります。最高気温は36℃、最低気温は27℃で、厳しい残暑となるため熱中症対策や紫外線対策が必要です。午後には折りたたみ傘を持ち歩くと安心でしょう。'}\n",
      "ans: 東京の明日の天気は晴れ時々曇りで、昼過ぎから一部で雨や雷を伴う可能性があります。最高気温は36℃、最低気温は27℃で、厳しい残暑となるため熱中症対策や紫外線対策が必要です。午後には折りたたみ傘を持ち歩くと安心でしょう。\n"
     ]
    }
   ],
   "source": [
    "output = chain.invoke(\"東京の明日の天気は？\")\n",
    "print(output)\n",
    "print(f\"ans: {output['ans']}\")"
   ]
  },
  {
   "cell_type": "code",
   "execution_count": null,
   "id": "6cb0e258",
   "metadata": {},
   "outputs": [],
   "source": []
  }
 ],
 "metadata": {
  "kernelspec": {
   "display_name": "langgraph_env",
   "language": "python",
   "name": "python3"
  },
  "language_info": {
   "codemirror_mode": {
    "name": "ipython",
    "version": 3
   },
   "file_extension": ".py",
   "mimetype": "text/x-python",
   "name": "python",
   "nbconvert_exporter": "python",
   "pygments_lexer": "ipython3",
   "version": "3.11.11"
  }
 },
 "nbformat": 4,
 "nbformat_minor": 5
}
