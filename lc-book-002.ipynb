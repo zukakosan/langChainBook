{
 "cells": [
  {
   "cell_type": "code",
   "execution_count": 1,
   "id": "28bd010c",
   "metadata": {},
   "outputs": [],
   "source": [
    "from langchain_core.output_parsers import StrOutputParser\n",
    "from langchain_core.prompts import ChatPromptTemplate\n",
    "from langchain.prompts.chat import (\n",
    "    ChatPromptTemplate,\n",
    "    SystemMessagePromptTemplate,\n",
    "    HumanMessagePromptTemplate,\n",
    ")\n",
    "from langchain_openai import AzureChatOpenAI\n",
    "from langchain_core.messages import HumanMessage, SystemMessage, AIMessage"
   ]
  },
  {
   "cell_type": "code",
   "execution_count": 7,
   "id": "1b53806b",
   "metadata": {},
   "outputs": [],
   "source": [
    "cot_system_prompt = SystemMessagePromptTemplate.from_template(\"ユーザの質問にステップバイステップでこたえてください\")\n",
    "cot_user_prompt = HumanMessagePromptTemplate.from_template(\"{query}\")\n",
    "cot_template = ChatPromptTemplate.from_messages([\n",
    "    cot_system_prompt,\n",
    "    cot_user_prompt\n",
    "])"
   ]
  },
  {
   "cell_type": "code",
   "execution_count": 11,
   "id": "225db980",
   "metadata": {},
   "outputs": [],
   "source": [
    "output_parser = StrOutputParser()"
   ]
  },
  {
   "cell_type": "code",
   "execution_count": 12,
   "id": "ec490fa4",
   "metadata": {},
   "outputs": [
    {
     "name": "stdout",
     "output_type": "stream",
     "text": [
      "The dotenv extension is already loaded. To reload it, use:\n",
      "  %reload_ext dotenv\n"
     ]
    }
   ],
   "source": [
    "%load_ext dotenv\n",
    "%dotenv"
   ]
  },
  {
   "cell_type": "code",
   "execution_count": 13,
   "id": "94bdfcaa",
   "metadata": {},
   "outputs": [],
   "source": [
    "llm = AzureChatOpenAI(\n",
    "    azure_deployment=\"gpt-4o\",\n",
    "    api_version=\"2024-06-01\",\n",
    "    temperature=0.7\n",
    ")\n"
   ]
  },
  {
   "cell_type": "code",
   "execution_count": 14,
   "id": "9aeab031",
   "metadata": {},
   "outputs": [],
   "source": [
    "cot_chain = cot_template | llm | output_parser"
   ]
  },
  {
   "cell_type": "code",
   "execution_count": 20,
   "id": "27d14033",
   "metadata": {},
   "outputs": [
    {
     "name": "stdout",
     "output_type": "stream",
     "text": [
      "summarize_template: input_variables=['text'] input_types={} partial_variables={} messages=[SystemMessagePromptTemplate(prompt=PromptTemplate(input_variables=[], input_types={}, partial_variables={}, template='与えられた内容を要約してください'), additional_kwargs={}), HumanMessagePromptTemplate(prompt=PromptTemplate(input_variables=['text'], input_types={}, partial_variables={}, template='{text}'), additional_kwargs={})]\n"
     ]
    }
   ],
   "source": [
    "summarize_system_prompt = SystemMessagePromptTemplate.from_template(\"与えられた内容を要約してください\")\n",
    "summarize_user_prompt = HumanMessagePromptTemplate.from_template(\"{text}\")\n",
    "summarize_template = ChatPromptTemplate.from_messages([\n",
    "    summarize_system_prompt,\n",
    "    summarize_user_prompt\n",
    "])\n",
    "\n",
    "print(\"summarize_template:\", summarize_template)"
   ]
  },
  {
   "cell_type": "code",
   "execution_count": 21,
   "id": "410af83c",
   "metadata": {},
   "outputs": [],
   "source": [
    "summarize_chain = summarize_template | llm | output_parser\n"
   ]
  },
  {
   "cell_type": "code",
   "execution_count": null,
   "id": "52d5fecc",
   "metadata": {},
   "outputs": [],
   "source": [
    "# 自動的に cot_chain の出力キーが text になる\n",
    "chain = cot_chain | summarize_chain"
   ]
  },
  {
   "cell_type": "code",
   "execution_count": 24,
   "id": "2af288c3",
   "metadata": {},
   "outputs": [],
   "source": [
    "res = chain.invoke({\"query\":\"カレーの作り方を教えてください\"})"
   ]
  },
  {
   "cell_type": "code",
   "execution_count": null,
   "id": "64690c90",
   "metadata": {},
   "outputs": [],
   "source": []
  }
 ],
 "metadata": {
  "kernelspec": {
   "display_name": "langgraph_env",
   "language": "python",
   "name": "python3"
  },
  "language_info": {
   "codemirror_mode": {
    "name": "ipython",
    "version": 3
   },
   "file_extension": ".py",
   "mimetype": "text/x-python",
   "name": "python",
   "nbconvert_exporter": "python",
   "pygments_lexer": "ipython3",
   "version": "3.11.11"
  }
 },
 "nbformat": 4,
 "nbformat_minor": 5
}
